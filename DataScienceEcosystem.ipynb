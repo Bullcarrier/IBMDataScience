{
 "cells": [
  {
   "cell_type": "markdown",
   "id": "ae80a6da-5820-4e8a-9b95-74e8c3e230f7",
   "metadata": {},
   "source": [
    "# Data Science Tools and Ecosystem"
   ]
  },
  {
   "cell_type": "markdown",
   "id": "5e1aefa1-397e-44e4-81d8-75b30e3bc566",
   "metadata": {},
   "source": [
    "In this notebook, Data Science Tools and Ecosystem are summarized."
   ]
  },
  {
   "cell_type": "markdown",
   "id": "5681eede-b512-47e5-8a33-977ae6ea8890",
   "metadata": {},
   "source": [
    "**Objectives**:\n",
    "- Popular Languages that Data Science\n",
    "- Used libraries used by Data Scientists\n",
    "- Data Science Tools"
   ]
  },
  {
   "cell_type": "markdown",
   "id": "19ff4ae3-e37d-4d23-a351-415bb7d23226",
   "metadata": {},
   "source": [
    "Some of the popular languages that Data Scientists use are:\n",
    "1. **Python**\n",
    "2. **R**\n",
    "3. **Julia**\n",
    "4. **SQL**\n"
   ]
  },
  {
   "cell_type": "markdown",
   "id": "de164355-fb65-4136-ae14-75289619ffa5",
   "metadata": {},
   "source": [
    "Some of the commonly used libraries used by Data Scientists include:\n",
    "\n",
    "1. **NumPy**\n",
    "2. **Pandas**\n",
    "3. **Matplotlib**\n",
    "4. **Scikit-learn**"
   ]
  },
  {
   "cell_type": "markdown",
   "id": "cddc0788-e367-45a5-bb39-95ab7621b98e",
   "metadata": {},
   "source": [
    "| Data Science Tools        |\n",
    "|---------------------------|\n",
    "| Jupyter Notebook          |\n",
    "| RStudio                   |\n",
    "| VSCode with Python plugin |"
   ]
  },
  {
   "cell_type": "markdown",
   "id": "6b10be04-f59d-4439-bb57-0acc8310ee68",
   "metadata": {},
   "source": [
    "### Below are a few examples of evaluating arithmetic expressions in Python"
   ]
  },
  {
   "cell_type": "code",
   "execution_count": 4,
   "id": "b0c0c3a4-ba6f-4893-99ff-22f9bd679018",
   "metadata": {},
   "outputs": [
    {
     "data": {
      "text/plain": [
       "17"
      ]
     },
     "execution_count": 4,
     "metadata": {},
     "output_type": "execute_result"
    }
   ],
   "source": [
    "#This a simple arithmetic expression to mutiply then add integers\n",
    "(3*4)+5\n"
   ]
  },
  {
   "cell_type": "code",
   "execution_count": 8,
   "id": "abab8fbf-f554-4e64-938c-36774ab4fe0a",
   "metadata": {},
   "outputs": [
    {
     "name": "stdout",
     "output_type": "stream",
     "text": [
      "200 minutes is 3.33 hours\n"
     ]
    }
   ],
   "source": [
    "#This will convert 200 minutes to hours by diving by 60\n",
    "minutes=200\n",
    "hours=round(minutes/60,2)\n",
    "print(minutes, \"minutes is\",hours,\"hours\")"
   ]
  },
  {
   "cell_type": "markdown",
   "id": "65818b20-6cbb-4ba5-8742-f8201e0bd143",
   "metadata": {},
   "source": [
    "## Author\n",
    "Mario Gomez-Rey"
   ]
  }
 ],
 "metadata": {
  "kernelspec": {
   "display_name": "Python 3 (ipykernel)",
   "language": "python",
   "name": "python3"
  },
  "language_info": {
   "codemirror_mode": {
    "name": "ipython",
    "version": 3
   },
   "file_extension": ".py",
   "mimetype": "text/x-python",
   "name": "python",
   "nbconvert_exporter": "python",
   "pygments_lexer": "ipython3",
   "version": "3.9.7"
  }
 },
 "nbformat": 4,
 "nbformat_minor": 5
}
